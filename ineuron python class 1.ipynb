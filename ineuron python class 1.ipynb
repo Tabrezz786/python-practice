{
 "cells": [
  {
   "cell_type": "code",
   "execution_count": 1,
   "id": "51528326",
   "metadata": {},
   "outputs": [],
   "source": [
    "T = 55"
   ]
  },
  {
   "cell_type": "code",
   "execution_count": 2,
   "id": "b489214c",
   "metadata": {},
   "outputs": [
    {
     "data": {
      "text/plain": [
       "15"
      ]
     },
     "execution_count": 2,
     "metadata": {},
     "output_type": "execute_result"
    }
   ],
   "source": [
    "T - 40"
   ]
  },
  {
   "cell_type": "code",
   "execution_count": 3,
   "id": "51951778",
   "metadata": {},
   "outputs": [
    {
     "data": {
      "text/plain": [
       "int"
      ]
     },
     "execution_count": 3,
     "metadata": {},
     "output_type": "execute_result"
    }
   ],
   "source": [
    "type(T)"
   ]
  },
  {
   "cell_type": "code",
   "execution_count": 4,
   "id": "aecb4472",
   "metadata": {},
   "outputs": [],
   "source": [
    "M = 23.44"
   ]
  },
  {
   "cell_type": "code",
   "execution_count": 5,
   "id": "3b9fea59",
   "metadata": {},
   "outputs": [
    {
     "data": {
      "text/plain": [
       "float"
      ]
     },
     "execution_count": 5,
     "metadata": {},
     "output_type": "execute_result"
    }
   ],
   "source": [
    "type(M)"
   ]
  },
  {
   "cell_type": "code",
   "execution_count": 6,
   "id": "a364f116",
   "metadata": {},
   "outputs": [],
   "source": [
    "N = 34+7j"
   ]
  },
  {
   "cell_type": "code",
   "execution_count": 7,
   "id": "9d526e99",
   "metadata": {},
   "outputs": [
    {
     "data": {
      "text/plain": [
       "complex"
      ]
     },
     "execution_count": 7,
     "metadata": {},
     "output_type": "execute_result"
    }
   ],
   "source": [
    "type(N)"
   ]
  },
  {
   "cell_type": "code",
   "execution_count": 8,
   "id": "47a90240",
   "metadata": {},
   "outputs": [],
   "source": [
    "V = True"
   ]
  },
  {
   "cell_type": "code",
   "execution_count": 9,
   "id": "5f1b2f97",
   "metadata": {},
   "outputs": [
    {
     "data": {
      "text/plain": [
       "bool"
      ]
     },
     "execution_count": 9,
     "metadata": {},
     "output_type": "execute_result"
    }
   ],
   "source": [
    "type(V)"
   ]
  },
  {
   "cell_type": "code",
   "execution_count": 10,
   "id": "31b3e4f6",
   "metadata": {},
   "outputs": [
    {
     "data": {
      "text/plain": [
       "34.0"
      ]
     },
     "execution_count": 10,
     "metadata": {},
     "output_type": "execute_result"
    }
   ],
   "source": [
    "N.real"
   ]
  },
  {
   "cell_type": "code",
   "execution_count": 11,
   "id": "64846c13",
   "metadata": {},
   "outputs": [],
   "source": [
    "H = [12,23,44,46,12+4j,33.33,'home',True,False]"
   ]
  },
  {
   "cell_type": "code",
   "execution_count": 12,
   "id": "9b6844f2",
   "metadata": {},
   "outputs": [
    {
     "data": {
      "text/plain": [
       "list"
      ]
     },
     "execution_count": 12,
     "metadata": {},
     "output_type": "execute_result"
    }
   ],
   "source": [
    "type(H)"
   ]
  },
  {
   "cell_type": "code",
   "execution_count": 13,
   "id": "6bf599f5",
   "metadata": {},
   "outputs": [
    {
     "data": {
      "text/plain": [
       "33.33"
      ]
     },
     "execution_count": 13,
     "metadata": {},
     "output_type": "execute_result"
    }
   ],
   "source": [
    "H[5]"
   ]
  },
  {
   "cell_type": "code",
   "execution_count": 14,
   "id": "6ff47bb7",
   "metadata": {},
   "outputs": [],
   "source": [
    "K = {45,454,3453,55.55,34.55,45+3j,'Help',True}"
   ]
  },
  {
   "cell_type": "code",
   "execution_count": 17,
   "id": "05855697",
   "metadata": {},
   "outputs": [
    {
     "data": {
      "text/plain": [
       "set"
      ]
     },
     "execution_count": 17,
     "metadata": {},
     "output_type": "execute_result"
    }
   ],
   "source": [
    "type(K)"
   ]
  },
  {
   "cell_type": "code",
   "execution_count": 18,
   "id": "5252f34a",
   "metadata": {},
   "outputs": [],
   "source": [
    "D = {48:754,3453:55.55,34.55:45+3j,'Help':True}"
   ]
  },
  {
   "cell_type": "code",
   "execution_count": 19,
   "id": "775b7951",
   "metadata": {},
   "outputs": [
    {
     "data": {
      "text/plain": [
       "dict"
      ]
     },
     "execution_count": 19,
     "metadata": {},
     "output_type": "execute_result"
    }
   ],
   "source": [
    "type(D)"
   ]
  },
  {
   "cell_type": "code",
   "execution_count": null,
   "id": "170cb8b8",
   "metadata": {},
   "outputs": [],
   "source": []
  }
 ],
 "metadata": {
  "kernelspec": {
   "display_name": "Python 3 (ipykernel)",
   "language": "python",
   "name": "python3"
  },
  "language_info": {
   "codemirror_mode": {
    "name": "ipython",
    "version": 3
   },
   "file_extension": ".py",
   "mimetype": "text/x-python",
   "name": "python",
   "nbconvert_exporter": "python",
   "pygments_lexer": "ipython3",
   "version": "3.9.12"
  }
 },
 "nbformat": 4,
 "nbformat_minor": 5
}
